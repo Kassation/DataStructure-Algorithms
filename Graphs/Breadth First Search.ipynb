{
 "cells": [
  {
   "cell_type": "markdown",
   "metadata": {},
   "source": [
    "Given a graph **G** and a starting vertex **s**, a breadth first search proceeds by exploring edges in the graph to find all the verices in **G** for which there is a path from **s**.\n",
    "\n",
    "The remarkable thing about a breadth first search is that it finds _all_ the vertices that are a distance **k** form **s** before it finds _any_ vertices that a distance **k+1**."
   ]
  },
  {
   "cell_type": "markdown",
   "metadata": {},
   "source": [
    "- To keep track of its progress, BFS colors each of the vertices white, gray, or black.\n",
    "- All the vertices are initialized to white when they are constructed.\n",
    "- A white vertex is an undiscovered vertex.\n",
    "- When a vertex is initially discovered it is colored gray, and when BFS has completely explored a vertex it is colored black.\n",
    "- This means that once a vertex is colored black, it has no white vertices adjacent to it.\n",
    "- A gray node, on the other hand, may have some white vertices adjacent to it, indicating that there are still additional vertices to explore."
   ]
  },
  {
   "cell_type": "markdown",
   "metadata": {},
   "source": [
    "- BFS begins at the staring vertex s and colors start gray to show that it is currently being wxplored.\n",
    "- Two other values, the distance and the predecessor, are initialized to 0 and None respectively for the starting vertex.\n",
    "- Finally, start is placed on a Queue.\n",
    "- The next step is to begin to systematically explore vertices at the front of the queue.\n",
    "- We explore each new node at the front of the queue by iterating over its adjacency list. As each node on the adjacency list is examined its color is checked.\n",
    "- If it is white, the vertex is unexplored, and four things happen:\n",
    "    - The new, unexplored vertex **nbr**, is colored gray.\n",
    "    - The predecessor of **nbr** is set to the current node **currentVert**\n",
    "    - The distance to **nbr** is set to the distance to **currentVert + 1**\n",
    "    - **nbr** is added to the end of a queue. Adding **nbr** to the end of the queue effectively schecules this node for further exploration, but bot until all the other vertices on the adjacency list of **currentVert** have been explored."
   ]
  },
  {
   "cell_type": "markdown",
   "metadata": {},
   "source": [
    "- The amazing thing about the breadth first search solution is that we have not only solved the word ladder problem we started out with, but we have solved many other problems along the way.\n",
    "- We can start at any vertex in the breadth first search tree and follow the predecessor arrows bact to the root to find the shortest word ladder from any word back to fool."
   ]
  },
  {
   "cell_type": "code",
   "execution_count": 1,
   "metadata": {
    "collapsed": true
   },
   "outputs": [],
   "source": [
    "graph = {'A': set(['B', 'C']),\n",
    "         'B': set(['A', 'D', 'E']),\n",
    "         'C': set(['A', 'F']),\n",
    "         'D': set(['B']),\n",
    "         'E': set(['B', 'F']),\n",
    "         'F': set(['C', 'E'])}"
   ]
  },
  {
   "cell_type": "code",
   "execution_count": 4,
   "metadata": {
    "collapsed": true
   },
   "outputs": [],
   "source": [
    "def bfs(graph, start):\n",
    "    visited = set()\n",
    "    queue = [start]\n",
    "    \n",
    "    while queue:\n",
    "        vertex = queue.pop(0)\n",
    "        print(queue)\n",
    "        if vertex not in visited:\n",
    "            visited.add(vertex)\n",
    "            queue.extend(graph[vertex] - visited)\n",
    "    \n",
    "    return visited"
   ]
  },
  {
   "cell_type": "code",
   "execution_count": 5,
   "metadata": {},
   "outputs": [
    {
     "name": "stdout",
     "output_type": "stream",
     "text": [
      "[]\n",
      "['B']\n",
      "['F']\n",
      "['E', 'D']\n",
      "['D', 'E']\n",
      "['E']\n",
      "[]\n"
     ]
    },
    {
     "data": {
      "text/plain": [
       "{'A', 'B', 'C', 'D', 'E', 'F'}"
      ]
     },
     "execution_count": 5,
     "metadata": {},
     "output_type": "execute_result"
    }
   ],
   "source": [
    "bfs(graph, 'A')"
   ]
  },
  {
   "cell_type": "markdown",
   "metadata": {},
   "source": [
    "### Paths\n",
    "This implementation can again be altered slightly to instead return all possible paths between two vertices, the first of which being one of the shortest such path."
   ]
  },
  {
   "cell_type": "code",
   "execution_count": 7,
   "metadata": {},
   "outputs": [
    {
     "data": {
      "text/plain": [
       "[['A', 'C', 'F'], ['A', 'B', 'E', 'F']]"
      ]
     },
     "execution_count": 7,
     "metadata": {},
     "output_type": "execute_result"
    }
   ],
   "source": [
    "def bfs_paths(graph, start, goal):\n",
    "    queue = [(start,[start])]\n",
    "    while queue:\n",
    "        (vertex, path) = queue.pop(0)\n",
    "        for nxt in graph[vertex] - set(path):\n",
    "            if nxt == goal:\n",
    "                yield path + [nxt]\n",
    "                \n",
    "            else:\n",
    "                queue.append((nxt, path+[nxt]))\n",
    "                \n",
    "list(bfs_paths(graph, 'A', 'F'))"
   ]
  },
  {
   "cell_type": "markdown",
   "metadata": {},
   "source": [
    "Knowing that the shortest path will be returned first from the BFS path generator method we can create a useful method which simply returns the shortest path found or 'None'. If no path exists. As we are using a generator this in theory should provide similar performance results as just breaking out and returning the first matching path in the BFS implementation."
   ]
  },
  {
   "cell_type": "code",
   "execution_count": 8,
   "metadata": {},
   "outputs": [
    {
     "data": {
      "text/plain": [
       "['A', 'C', 'F']"
      ]
     },
     "execution_count": 8,
     "metadata": {},
     "output_type": "execute_result"
    }
   ],
   "source": [
    "def shortest_path(graph, start, goal):\n",
    "    try:\n",
    "        return next(bfs_paths(graph, start, goal))\n",
    "    except StopIteration:\n",
    "        return None\n",
    "    \n",
    "shortest_path(graph, 'A', 'F')"
   ]
  },
  {
   "cell_type": "code",
   "execution_count": null,
   "metadata": {
    "collapsed": true
   },
   "outputs": [],
   "source": []
  }
 ],
 "metadata": {
  "kernelspec": {
   "display_name": "Python 3",
   "language": "python",
   "name": "python3"
  },
  "language_info": {
   "codemirror_mode": {
    "name": "ipython",
    "version": 3
   },
   "file_extension": ".py",
   "mimetype": "text/x-python",
   "name": "python",
   "nbconvert_exporter": "python",
   "pygments_lexer": "ipython3",
   "version": "3.6.1"
  }
 },
 "nbformat": 4,
 "nbformat_minor": 2
}
