{
 "cells": [
  {
   "cell_type": "markdown",
   "metadata": {},
   "source": [
    "The knight's tour is a special case of a depth first search where the goal is to create the deepest depth first tree, without any branches.\n",
    "\n",
    "The more general depth first search is actually easier. Its goal is to search as deeply as possible, connecting as many node in the graph as possible and branching where necessary."
   ]
  },
  {
   "cell_type": "markdown",
   "metadata": {},
   "source": [
    "It is even possible that a depth first search will create more than one tree. When the depth first search algorithm creates a group of trees we call this a **depth first forest**.\n",
    "\n",
    "As with the breadth first search, our depth first search makes use of predecessor links to construct the tree.\n",
    "\n",
    "In addition, the depth first search will make use o two additional instance variables in the Vertex class. Thenew instance variables are the discovery and finish times.\n",
    "\n",
    "- The discovery time tracks the number of steps in the algorithm before a vertex is first encountered.\n",
    "\n",
    "- The finish time is the number of steps in the algorithm before a vertex is colored black."
   ]
  },
  {
   "cell_type": "code",
   "execution_count": null,
   "metadata": {
    "collapsed": true
   },
   "outputs": [],
   "source": []
  }
 ],
 "metadata": {
  "kernelspec": {
   "display_name": "Python 3",
   "language": "python",
   "name": "python3"
  },
  "language_info": {
   "codemirror_mode": {
    "name": "ipython",
    "version": 3
   },
   "file_extension": ".py",
   "mimetype": "text/x-python",
   "name": "python",
   "nbconvert_exporter": "python",
   "pygments_lexer": "ipython3",
   "version": "3.6.1"
  }
 },
 "nbformat": 4,
 "nbformat_minor": 2
}
