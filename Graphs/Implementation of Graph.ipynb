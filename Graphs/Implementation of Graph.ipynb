{
 "cells": [
  {
   "cell_type": "code",
   "execution_count": 1,
   "metadata": {
    "collapsed": true
   },
   "outputs": [],
   "source": [
    "from enum import Enum\n"
   ]
  },
  {
   "cell_type": "code",
   "execution_count": 2,
   "metadata": {
    "collapsed": true
   },
   "outputs": [],
   "source": [
    "class State(Enum):\n",
    "    unvisited = 1\n",
    "    visited = 2\n",
    "    visiting = 3"
   ]
  },
  {
   "cell_type": "code",
   "execution_count": 13,
   "metadata": {
    "collapsed": true
   },
   "outputs": [],
   "source": [
    "from collections import OrderedDict\n",
    "class Node:\n",
    "    \n",
    "    def __init__(self, num):\n",
    "        \n",
    "        self.num = num\n",
    "        self.visit_state = State.unvisited\n",
    "        self.adjacent = OrderedDict() # key = node, value = weight\n",
    "        \n",
    "    def __str__(self):\n",
    "        return str(self.num)\n",
    "    "
   ]
  },
  {
   "cell_type": "code",
   "execution_count": 17,
   "metadata": {
    "collapsed": true
   },
   "outputs": [],
   "source": [
    "class Graph:\n",
    "    \n",
    "    def __init__(self):\n",
    "        self.nodes = OrderedDict()\n",
    "        \n",
    "    def add_node(self, num):\n",
    "        node = Node(num)\n",
    "        self.nodes[num] = node\n",
    "        return node\n",
    "    \n",
    "    def add_edge(self, source, dest, weight = 0):\n",
    "        if source not in self.nodes:\n",
    "            self.add_node(source)\n",
    "            \n",
    "        if dest not in self.nodes:\n",
    "            self.add_node(dest)\n",
    "            \n",
    "        self.nodes[source].adjacent[self.nodes[dest]] = weight"
   ]
  },
  {
   "cell_type": "code",
   "execution_count": 18,
   "metadata": {
    "collapsed": true
   },
   "outputs": [],
   "source": [
    "g = Graph()"
   ]
  },
  {
   "cell_type": "code",
   "execution_count": 19,
   "metadata": {},
   "outputs": [],
   "source": [
    "g.add_edge(0,1,5)"
   ]
  },
  {
   "cell_type": "code",
   "execution_count": 20,
   "metadata": {},
   "outputs": [
    {
     "data": {
      "text/plain": [
       "OrderedDict([(0, <__main__.Node at 0x1ee527b7470>),\n",
       "             (1, <__main__.Node at 0x1ee527b74a8>)])"
      ]
     },
     "execution_count": 20,
     "metadata": {},
     "output_type": "execute_result"
    }
   ],
   "source": [
    "g.nodes"
   ]
  },
  {
   "cell_type": "code",
   "execution_count": 21,
   "metadata": {
    "collapsed": true
   },
   "outputs": [],
   "source": [
    "g.add_edge(1,2,3)"
   ]
  },
  {
   "cell_type": "code",
   "execution_count": 22,
   "metadata": {},
   "outputs": [
    {
     "data": {
      "text/plain": [
       "OrderedDict([(0, <__main__.Node at 0x1ee527b7470>),\n",
       "             (1, <__main__.Node at 0x1ee527b74a8>),\n",
       "             (2, <__main__.Node at 0x1ee527495f8>)])"
      ]
     },
     "execution_count": 22,
     "metadata": {},
     "output_type": "execute_result"
    }
   ],
   "source": [
    "g.nodes"
   ]
  },
  {
   "cell_type": "code",
   "execution_count": null,
   "metadata": {
    "collapsed": true
   },
   "outputs": [],
   "source": []
  }
 ],
 "metadata": {
  "kernelspec": {
   "display_name": "Python 3",
   "language": "python",
   "name": "python3"
  },
  "language_info": {
   "codemirror_mode": {
    "name": "ipython",
    "version": 3
   },
   "file_extension": ".py",
   "mimetype": "text/x-python",
   "name": "python",
   "nbconvert_exporter": "python",
   "pygments_lexer": "ipython3",
   "version": "3.6.1"
  }
 },
 "nbformat": 4,
 "nbformat_minor": 2
}
