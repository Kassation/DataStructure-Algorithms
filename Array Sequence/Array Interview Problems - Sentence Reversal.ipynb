{
 "cells": [
  {
   "cell_type": "markdown",
   "metadata": {},
   "source": [
    "- Don't use Python \"tricks\" when answering the interview problems\n",
    "- For example: if asked to reverse a string, don't use `mystring[::-1]`"
   ]
  },
  {
   "cell_type": "markdown",
   "metadata": {},
   "source": [
    "- Use a whiteboard or pen (much harder)\n",
    "- If you are completely stuck on the problem and have tried brute forcing it:\n",
    "    - Give it 1-2 days and try it again\n",
    "    - Still stuck? Look at the solution and code it out\n",
    "    - Wait 1-2 days and try the problem again"
   ]
  },
  {
   "cell_type": "markdown",
   "metadata": {},
   "source": [
    "# Sentence Reversal\n"
   ]
  },
  {
   "cell_type": "markdown",
   "metadata": {},
   "source": [
    "## Problem\n",
    "\n",
    "Given a string of words, reverse all the words. For example:\n",
    "\n",
    "Given:\n",
    "\n",
    "    'This is the best'\n",
    "\n",
    "Return:\n",
    "\n",
    "    'best the is This'\n",
    "\n",
    "As part of this exercise you should remove all leading and trailing whitespace. So that inputs such as:\n",
    "\n",
    "    '  space here'  'space here      '\n",
    "\n",
    "both become:\n",
    "\n",
    "    'here space'\n"
   ]
  },
  {
   "cell_type": "markdown",
   "metadata": {},
   "source": [
    "### Solution"
   ]
  },
  {
   "cell_type": "markdown",
   "metadata": {},
   "source": [
    "We could take advantage of Python's ability and solve the problem with the use of **split()** and some slicing or use of **reversed()**:"
   ]
  },
  {
   "cell_type": "code",
   "execution_count": 1,
   "metadata": {
    "collapsed": true
   },
   "outputs": [],
   "source": [
    "def rev_sen1(s):\n",
    "    return \" \".join(reversed(s.split()))"
   ]
  },
  {
   "cell_type": "code",
   "execution_count": 7,
   "metadata": {
    "collapsed": true
   },
   "outputs": [],
   "source": [
    "def rev_sen2(s):\n",
    "    return \" \".join(s.split()[::-1])"
   ]
  },
  {
   "cell_type": "markdown",
   "metadata": {},
   "source": [
    "To reverse the sentence we can use the **stack** data structure. What we want to do is to loop over the sentence and extract words from the string ourselves. We push the words to a stack and in the end pop them all to reverse."
   ]
  },
  {
   "cell_type": "code",
   "execution_count": 6,
   "metadata": {},
   "outputs": [],
   "source": [
    "def rev_sen3(s):\n",
    "    '''\n",
    "    manually doing the splits on the space\n",
    "    '''\n",
    "    word = []\n",
    "    length = len(s)\n",
    "    space = [' ']\n",
    "    \n",
    "    i = 0\n",
    "    \n",
    "    while i < length:\n",
    "        if s[i] not in space:\n",
    "            word_start = i\n",
    "            while i < length and s[i] not in space: # i < length should be in front\n",
    "                i += 1\n",
    "            \n",
    "            word.append(s[word_start:i])\n",
    "        i += 1\n",
    "        \n",
    "    #return \" \".join(reversed(word))\n",
    "    return word\n",
    "\n",
    "def final_output(word):\n",
    "    '''\n",
    "    manually reverse the list and come out as a string\n",
    "    '''\n",
    "    i = len(word) - 1\n",
    "    output = []\n",
    "    while i >= 0:\n",
    "        output.append(word[i])\n",
    "        i -= 1\n",
    "    \n",
    "    return \" \".join(output)"
   ]
  },
  {
   "cell_type": "code",
   "execution_count": 7,
   "metadata": {},
   "outputs": [
    {
     "data": {
      "text/plain": [
       "'before space'"
      ]
     },
     "execution_count": 7,
     "metadata": {},
     "output_type": "execute_result"
    }
   ],
   "source": [
    "final_output(rev_sen3('    space before'))"
   ]
  },
  {
   "cell_type": "markdown",
   "metadata": {},
   "source": [
    "### Test Your Solution\n",
    "Run the cell below to test your solution"
   ]
  },
  {
   "cell_type": "code",
   "execution_count": 26,
   "metadata": {},
   "outputs": [
    {
     "name": "stdout",
     "output_type": "stream",
     "text": [
      "ALL TEST CASES PASSED\n"
     ]
    }
   ],
   "source": [
    "from nose.tools import assert_equal\n",
    "\n",
    "class ReversalTest(object):\n",
    "    \n",
    "    def test(self,sol):\n",
    "        assert_equal(sol('    space before'),'before space')\n",
    "        assert_equal(sol('space after     '),'after space')\n",
    "        assert_equal(sol('   Hello John    how are you   '),'you are how John Hello')\n",
    "        assert_equal(sol('1'),'1')\n",
    "        print (\"ALL TEST CASES PASSED\")\n",
    "        \n",
    "# Run and test\n",
    "t = ReversalTest()\n",
    "t.test(rev_sen3)"
   ]
  },
  {
   "cell_type": "code",
   "execution_count": null,
   "metadata": {
    "collapsed": true
   },
   "outputs": [],
   "source": []
  }
 ],
 "metadata": {
  "kernelspec": {
   "display_name": "Python 3",
   "language": "python",
   "name": "python3"
  },
  "language_info": {
   "codemirror_mode": {
    "name": "ipython",
    "version": 3
   },
   "file_extension": ".py",
   "mimetype": "text/x-python",
   "name": "python",
   "nbconvert_exporter": "python",
   "pygments_lexer": "ipython3",
   "version": "3.6.1"
  }
 },
 "nbformat": 4,
 "nbformat_minor": 2
}
