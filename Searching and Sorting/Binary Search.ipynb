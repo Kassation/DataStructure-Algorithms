{
 "cells": [
  {
   "cell_type": "markdown",
   "metadata": {},
   "source": [
    "Instead of searchng the list in sequence, a binary search will start by examining the middle item.\n",
    "- If that item is the one we are searching for, we are done.\n",
    "- If the item we are searching for is greater that the middle item, we know that the entire lower half of the list as well as the middle item can be eliminated from further consideration.\n",
    "- The item, if it is in the list, must be in the upper half.\n",
    "- We can then repeat the process with the upper half. Start at the middle item and compare it against what we are looking for,\n",
    "- Again, we either find it or split the list in half, therefore eliminating another larger part of our possible search space."
   ]
  },
  {
   "cell_type": "markdown",
   "metadata": {},
   "source": [
    "- Binary search uses Divide and Conquer!\n",
    "- We divide the problem into smaller pieces, solve the smaller pieces in some wa, and then reassemble the whole problem to get the result."
   ]
  },
  {
   "cell_type": "markdown",
   "metadata": {},
   "source": [
    "Comparisons | Approximate Number of Items Left\n",
    ":-: | :-: \n",
    "1 | $n/2$ \n",
    "2 | $n/4$\n",
    "3 | $n/8$\n",
    "... | \n",
    "i | $n/(2^i)$"
   ]
  },
  {
   "cell_type": "markdown",
   "metadata": {},
   "source": [
    "###  Implementation"
   ]
  },
  {
   "cell_type": "code",
   "execution_count": 4,
   "metadata": {
    "collapsed": true
   },
   "outputs": [],
   "source": [
    "# iteration version\n",
    "def binary_search(arr, ele):\n",
    "    \n",
    "    first = 0\n",
    "    last = len(arr) - 1\n",
    "    \n",
    "    found = False\n",
    "    \n",
    "    while first <= last and not found:\n",
    "        \n",
    "        mid = int((first + last) / 2)\n",
    "        \n",
    "        if arr[mid] == ele:\n",
    "            found = True\n",
    "            \n",
    "        else:\n",
    "            if ele < arr[mid]:\n",
    "                last = mid - 1\n",
    "            else:\n",
    "                first = mid + 1\n",
    "                \n",
    "    return found"
   ]
  },
  {
   "cell_type": "code",
   "execution_count": 6,
   "metadata": {},
   "outputs": [
    {
     "data": {
      "text/plain": [
       "False"
      ]
     },
     "execution_count": 6,
     "metadata": {},
     "output_type": "execute_result"
    }
   ],
   "source": [
    "arr = [1,2,3,4,5,6,7,8,9,10]\n",
    "binary_search(arr, 13)"
   ]
  },
  {
   "cell_type": "code",
   "execution_count": 13,
   "metadata": {},
   "outputs": [],
   "source": [
    "# recursive version\n",
    "def rec_bin_search(arr, ele):\n",
    "    \n",
    "    if len(arr) == 0:\n",
    "        return False\n",
    "    else:\n",
    "        mid = int(len(arr)/2)\n",
    "        \n",
    "        if arr[mid] == ele:\n",
    "            return True\n",
    "        \n",
    "        else:\n",
    "            if ele < arr[mid]:\n",
    "                return rec_bin_search(arr[:mid], ele)\n",
    "            else:\n",
    "                return rec_bin_search(arr[mid+1:], ele)"
   ]
  },
  {
   "cell_type": "code",
   "execution_count": 15,
   "metadata": {},
   "outputs": [
    {
     "data": {
      "text/plain": [
       "True"
      ]
     },
     "execution_count": 15,
     "metadata": {},
     "output_type": "execute_result"
    }
   ],
   "source": [
    "arr = [1,2,3,4,5,6,7,8,9]\n",
    "rec_bin_search(arr, 7)"
   ]
  },
  {
   "cell_type": "code",
   "execution_count": null,
   "metadata": {
    "collapsed": true
   },
   "outputs": [],
   "source": []
  }
 ],
 "metadata": {
  "kernelspec": {
   "display_name": "Python 3",
   "language": "python",
   "name": "python3"
  },
  "language_info": {
   "codemirror_mode": {
    "name": "ipython",
    "version": 3
   },
   "file_extension": ".py",
   "mimetype": "text/x-python",
   "name": "python",
   "nbconvert_exporter": "python",
   "pygments_lexer": "ipython3",
   "version": "3.6.1"
  }
 },
 "nbformat": 4,
 "nbformat_minor": 2
}
