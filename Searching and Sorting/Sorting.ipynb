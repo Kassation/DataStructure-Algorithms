{
 "cells": [
  {
   "cell_type": "markdown",
   "metadata": {},
   "source": [
    "### Bubble Sort"
   ]
  },
  {
   "cell_type": "markdown",
   "metadata": {},
   "source": [
    "- The **bubble sort** makes multiple passes through a list.\n",
    "- It compares adjacent items and exchange those that are out of order.\n",
    "- Each pass through the list places the next largest value in its proper place.\n",
    "- Each item \"bubbles\" up to the location where it belong."
   ]
  },
  {
   "cell_type": "markdown",
   "metadata": {},
   "source": [
    "- The largest at its location first"
   ]
  },
  {
   "cell_type": "code",
   "execution_count": 15,
   "metadata": {
    "collapsed": true
   },
   "outputs": [],
   "source": [
    "def bubble_sort(arr):\n",
    "    for n in range(len(arr) - 1, 0, -1):\n",
    "        #print('n=',n)\n",
    "        for k in range(n):\n",
    "            #print('k=',k)\n",
    "            if arr[k] > arr[k+1]:\n",
    "                \n",
    "                temp = arr[k]\n",
    "                arr[k] = arr[k+1]\n",
    "                arr[k+1] = temp\n",
    "                \n",
    "                "
   ]
  },
  {
   "cell_type": "code",
   "execution_count": 17,
   "metadata": {},
   "outputs": [
    {
     "data": {
      "text/plain": [
       "[2, 3, 4, 5, 6, 8]"
      ]
     },
     "execution_count": 17,
     "metadata": {},
     "output_type": "execute_result"
    }
   ],
   "source": [
    "arr = [3,4,5,2,6,8]\n",
    "bubble_sort(arr)\n",
    "arr"
   ]
  },
  {
   "cell_type": "markdown",
   "metadata": {},
   "source": [
    "### Selection Sort"
   ]
  },
  {
   "cell_type": "markdown",
   "metadata": {},
   "source": [
    "- The **selection sort** improves on the bubble sort by making only one exchange for every pass through the list.\n",
    "- A selection sort looks for the largest value as it makes a pass and, after completing to the pass, places it in the proper location.\n",
    "- After the first pass, the largest item is in the correct place. After the second pass, the next largest is in place.\n",
    "- This process continues and requires n-1 passes to sort n items, since the final item must be in place after the (n-1)st pass."
   ]
  },
  {
   "cell_type": "code",
   "execution_count": 12,
   "metadata": {
    "collapsed": true
   },
   "outputs": [],
   "source": [
    "def sel_sort(arr):\n",
    "    for i in range(len(arr)-1, 0, -1):\n",
    "        max_index = i\n",
    "        for j in range(i):\n",
    "            if arr[j] > arr[max_index]:\n",
    "                max_index = j\n",
    "        temp = arr[i]\n",
    "        arr[i] = arr[max_index]\n",
    "        arr[max_index] = temp\n",
    "                "
   ]
  },
  {
   "cell_type": "code",
   "execution_count": 14,
   "metadata": {},
   "outputs": [
    {
     "data": {
      "text/plain": [
       "[1, 2, 3, 4, 5, 6]"
      ]
     },
     "execution_count": 14,
     "metadata": {},
     "output_type": "execute_result"
    }
   ],
   "source": [
    "arr = [3,4,5,2,6,1]\n",
    "sel_sort(arr)\n",
    "arr"
   ]
  },
  {
   "cell_type": "markdown",
   "metadata": {},
   "source": [
    "### Insertion Sort"
   ]
  },
  {
   "cell_type": "markdown",
   "metadata": {},
   "source": [
    "- The insertion sort always maintains a sorted sublist in the lower positions of the list.\n",
    "- Each new item is then \"inserted\" back into the previous sublist such that the sorted sublist is one item larger.\n",
    "- We begin by assuming that a list with one item (position 0) is already sorted.\n",
    "- On each pass, one for each item 1 through n-1, the current item is checked against thost in the already sorted sublist.\n",
    "- As we look back into the already sorted sublist, we shift those items that are greater to the right.\n",
    "- When we reach a smaller item or the end of the sublist, the current item can be inserted."
   ]
  },
  {
   "cell_type": "code",
   "execution_count": 56,
   "metadata": {
    "collapsed": true
   },
   "outputs": [],
   "source": [
    "def insert_sort(arr):\n",
    "    for i in range(1, len(arr)):\n",
    "        current = arr[i]\n",
    "        for j in range(i, 0, -1):\n",
    "            if arr[j-1] > current:\n",
    "                arr[j] = arr[j-1]\n",
    "                \n",
    "            else:\n",
    "                arr[j-1] = current"
   ]
  },
  {
   "cell_type": "code",
   "execution_count": 46,
   "metadata": {
    "collapsed": true
   },
   "outputs": [],
   "source": [
    "def insertion_sort(arr):\n",
    "    for i in range(1, len(arr)):\n",
    "        currentvalue = arr[i]\n",
    "        position = i\n",
    "        \n",
    "        while position > 0 and arr[position-1] > currentvalue:\n",
    "            \n",
    "            arr[position] = arr[position-1]\n",
    "            position = position-1\n",
    "        arr[position] = currentvalue"
   ]
  },
  {
   "cell_type": "code",
   "execution_count": 57,
   "metadata": {},
   "outputs": [
    {
     "data": {
      "text/plain": [
       "[6, 6, 6, 6, 6, 6]"
      ]
     },
     "execution_count": 57,
     "metadata": {},
     "output_type": "execute_result"
    }
   ],
   "source": [
    "arr = [3,4,5,2,6,1]\n",
    "insert_sort(arr)\n",
    "arr"
   ]
  },
  {
   "cell_type": "markdown",
   "metadata": {},
   "source": [
    "### Shell Sort"
   ]
  },
  {
   "cell_type": "markdown",
   "metadata": {},
   "source": [
    "- The **shell sort** improves on the insertion sort by breaking the original list into a number of smaller sublists,\n",
    "- The unique way that these sublists are chosen is the key to the shell sort.\n",
    "- Instead of breaking the list into sublists of contiguous items, the shell sort uses an increment \"i\" to create a sublist by choosing all items that are \"i\" items apart."
   ]
  },
  {
   "cell_type": "code",
   "execution_count": 71,
   "metadata": {
    "collapsed": true
   },
   "outputs": [],
   "source": [
    "def shell_sort(arr):\n",
    "    \n",
    "    sublistcount = int(len(arr)/2)\n",
    "    \n",
    "    while sublistcount > 0:\n",
    "        for start in range(sublistcount):\n",
    "            \n",
    "            gap_insertion_sort(arr, start, sublistcount)\n",
    "            \n",
    "        #print(\"After increments of size: \", sublistcount)\n",
    "        #print(\"The list is \", arr)\n",
    "        \n",
    "        sublistcount = int(sublistcount / 2)"
   ]
  },
  {
   "cell_type": "code",
   "execution_count": 72,
   "metadata": {
    "collapsed": true
   },
   "outputs": [],
   "source": [
    "def gap_insertion_sort(arr, start, gap):\n",
    "    \n",
    "    for i in range(start + gap, len(arr), gap):\n",
    "        \n",
    "        currentvalue = arr[i]\n",
    "        position = i\n",
    "        \n",
    "        while position >= gap and arr[position - gap] > currentvalue:\n",
    "            \n",
    "            arr[position] = arr[position - gap]\n",
    "            position = position - gap\n",
    "            \n",
    "        arr[position] = currentvalue"
   ]
  },
  {
   "cell_type": "code",
   "execution_count": 74,
   "metadata": {},
   "outputs": [
    {
     "name": "stdout",
     "output_type": "stream",
     "text": [
      "After increments of size:  4\n",
      "The list is  [36, 54, 1, 25, 45, 67, 93, 31, 98]\n",
      "After increments of size:  2\n",
      "The list is  [1, 25, 36, 31, 45, 54, 93, 67, 98]\n",
      "After increments of size:  1\n",
      "The list is  [1, 25, 31, 36, 45, 54, 67, 93, 98]\n"
     ]
    },
    {
     "data": {
      "text/plain": [
       "[1, 25, 31, 36, 45, 54, 67, 93, 98]"
      ]
     },
     "execution_count": 74,
     "metadata": {},
     "output_type": "execute_result"
    }
   ],
   "source": [
    "arr = [45,67,93,31,36,54,1,25,98]\n",
    "shell_sort(arr)\n",
    "arr"
   ]
  },
  {
   "cell_type": "markdown",
   "metadata": {},
   "source": [
    "### Merge Sort"
   ]
  },
  {
   "cell_type": "markdown",
   "metadata": {},
   "source": [
    "- Merge sort is a recursive algorithm that continually splits a list in half.\n",
    "- If the list is empty or has one item, it is sorted by definition (the base case).\n",
    "- If the list has more than one item, we split the list and recursively invoke a merge sort on both halves.\n",
    "- Once the two halves are sorted, the fundamental operation, called a **merge**, is performed.\n",
    "- Merging is the process of taking two smaller sorted lists and combining them together into a single, sorted, new list."
   ]
  },
  {
   "cell_type": "code",
   "execution_count": 75,
   "metadata": {
    "collapsed": true
   },
   "outputs": [],
   "source": [
    "def merge_sort(arr):\n",
    "    \n",
    "    if len(arr) > 1:\n",
    "        \n",
    "        mid = int(len(arr)/2)\n",
    "        lefthalf = arr[:mid]\n",
    "        righthalf = arr[mid:]\n",
    "        \n",
    "        merge_sort(lefthalf)\n",
    "        merge_sort(righthalf)\n",
    "        \n",
    "        i = 0\n",
    "        j = 0\n",
    "        k = 0\n",
    "        \n",
    "        \n",
    "        # Merging\n",
    "        while i < len(lefthalf) and j < len(righthalf):\n",
    "            \n",
    "            if lefthalf[i] < righthalf[j]:\n",
    "                arr[k] = lefthalf[i]\n",
    "                i += 1\n",
    "                \n",
    "            else:\n",
    "                arr[k] = righthalf[j]\n",
    "                j += 1\n",
    "                \n",
    "            k += 1\n",
    "            \n",
    "        while i < len(lefthalf):\n",
    "            arr[k] = lefthalf[i]\n",
    "            i += 1\n",
    "            k += 1\n",
    "            \n",
    "        while j < len(righthalf):\n",
    "            arr[k] = righthalf[j]\n",
    "            j += 1\n",
    "            k += 1\n",
    "            "
   ]
  },
  {
   "cell_type": "code",
   "execution_count": 76,
   "metadata": {},
   "outputs": [
    {
     "data": {
      "text/plain": [
       "[2, 6, 9, 11, 12, 34, 61]"
      ]
     },
     "execution_count": 76,
     "metadata": {},
     "output_type": "execute_result"
    }
   ],
   "source": [
    "arr = [11, 2, 6, 34, 61, 12, 9]\n",
    "merge_sort(arr)\n",
    "arr"
   ]
  },
  {
   "cell_type": "markdown",
   "metadata": {},
   "source": [
    "### Quick Sort"
   ]
  },
  {
   "cell_type": "markdown",
   "metadata": {},
   "source": [
    "- The **quick sort** uses divide and conquer to gain the same advantages as the merge sort, while not using additional storage.\n",
    "- As a trade-off, however, it is possible that the list may not be divided in half.\n",
    "- When this happens, we will see that performance is diminished.\n",
    "\n",
    "- A quick sort fist selects a value, which is called the **pivot value**.\n",
    "- The role of the pivot value is to assist with splitting the list.\n",
    "- The actual position where the pivot value belongs in the final sorted list, commonly called the **split point**, will be used to divide the list for subsequent calls to the quick sort."
   ]
  },
  {
   "cell_type": "code",
   "execution_count": 82,
   "metadata": {
    "collapsed": true
   },
   "outputs": [],
   "source": [
    "def quick_sort(arr):\n",
    "    \n",
    "    quick_sort_help(arr, 0, len(arr) - 1)\n",
    "    \n",
    "\n",
    "def quick_sort_help(arr, first, last):\n",
    "    \n",
    "    if first < last:\n",
    "        \n",
    "        splitpoint = partition(arr, first, last)\n",
    "        \n",
    "        quick_sort_help(arr, first, splitpoint - 1)\n",
    "        quick_sort_help(arr, splitpoint+1, last)\n",
    "\n",
    "def partition(arr, first, last):\n",
    "    \n",
    "    pivotvalue = arr[first]\n",
    "    \n",
    "    leftmark = first + 1\n",
    "    rightmark = last\n",
    "    \n",
    "    done = False\n",
    "    \n",
    "    while not done:\n",
    "        \n",
    "        while leftmark <= rightmark and arr[leftmark] <= pivotvalue:\n",
    "            leftmark += 1\n",
    "        while arr[rightmark] >= pivotvalue and rightmark >= leftmark:\n",
    "            rightmark -= 1\n",
    "        \n",
    "        if rightmark < leftmark:\n",
    "            done = True\n",
    "            \n",
    "        else:\n",
    "            temp = arr[leftmark]\n",
    "            arr[leftmark] = arr[rightmark]\n",
    "            arr[rightmark] = temp\n",
    "            \n",
    "    temp = arr[first]\n",
    "    arr[first] = arr[rightmark]\n",
    "    arr[rightmark] = temp\n",
    "    \n",
    "    return rightmark"
   ]
  },
  {
   "cell_type": "code",
   "execution_count": 83,
   "metadata": {},
   "outputs": [
    {
     "data": {
      "text/plain": [
       "[3, 5, 9, 15, 32, 45, 97]"
      ]
     },
     "execution_count": 83,
     "metadata": {},
     "output_type": "execute_result"
    }
   ],
   "source": [
    "arr = [5,3,9,45,32,15,97]\n",
    "quick_sort(arr)\n",
    "arr"
   ]
  },
  {
   "cell_type": "code",
   "execution_count": null,
   "metadata": {
    "collapsed": true
   },
   "outputs": [],
   "source": []
  }
 ],
 "metadata": {
  "kernelspec": {
   "display_name": "Python 3",
   "language": "python",
   "name": "python3"
  },
  "language_info": {
   "codemirror_mode": {
    "name": "ipython",
    "version": 3
   },
   "file_extension": ".py",
   "mimetype": "text/x-python",
   "name": "python",
   "nbconvert_exporter": "python",
   "pygments_lexer": "ipython3",
   "version": "3.6.1"
  }
 },
 "nbformat": 4,
 "nbformat_minor": 2
}
