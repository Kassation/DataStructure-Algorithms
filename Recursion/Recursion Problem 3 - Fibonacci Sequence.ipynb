{
 "cells": [
  {
   "cell_type": "markdown",
   "metadata": {},
   "source": [
    "### Problem\n",
    "\n",
    "Implement a [Fibonnaci Sequence](https://en.wikipedia.org/wiki/Fibonacci_number) in three different ways:\n",
    "\n",
    "- Recursively\n",
    "- Dynamically (Using Memoization to store results)\n",
    "- Iteratively\n",
    "\n",
    "Remember that a fibonacci sequence: 0,1,1,2,3,5,8,13,21,... starts off with a base case checking to see if n = 0 or 1, then it returns 1.\n",
    "\n",
    "Else it returns fib(n-1)+fib(n-2)."
   ]
  },
  {
   "cell_type": "markdown",
   "metadata": {},
   "source": [
    "### Solution\n",
    "\n"
   ]
  },
  {
   "cell_type": "code",
   "execution_count": 1,
   "metadata": {
    "collapsed": true
   },
   "outputs": [],
   "source": [
    "# iterative solution\n",
    "def fib_iter(n):\n",
    "    a, b = 0, 1\n",
    "    \n",
    "    for i in range(n):\n",
    "        a, b = b, a+b\n",
    "        \n",
    "    return a        "
   ]
  },
  {
   "cell_type": "code",
   "execution_count": 4,
   "metadata": {
    "collapsed": true
   },
   "outputs": [],
   "source": [
    "# recursive solution\n",
    "def fib_rec(n):\n",
    "    #base case\n",
    "    if n == 0 or n == 1:\n",
    "        return n\n",
    "    \n",
    "    #recursive case\n",
    "    return fib_rec(n-1) + fib_rec(n-2)"
   ]
  },
  {
   "cell_type": "code",
   "execution_count": 6,
   "metadata": {
    "collapsed": true
   },
   "outputs": [],
   "source": [
    "#cache\n",
    "n = 10\n",
    "cache = 11 * [None]\n",
    "\n",
    "def fib_dyn(n):\n",
    "    if n == 1 or n == 0:\n",
    "        return n\n",
    "    if cache[n] != None:\n",
    "        return cache[n]\n",
    "    cache[n] = fib_dyn(n-1) + fib_dyn(n-2)\n",
    "    return cache[n]"
   ]
  },
  {
   "cell_type": "code",
   "execution_count": 9,
   "metadata": {},
   "outputs": [
    {
     "name": "stdout",
     "output_type": "stream",
     "text": [
      "55\n"
     ]
    }
   ],
   "source": [
    "# Memoization\n",
    "def memorize(f, n):\n",
    "    memo = {}\n",
    "    if n not in memo:\n",
    "        memo[n] = f(n)\n",
    "        return memo[n]\n",
    "\n",
    "fibm = memorize(fib_iter, 10)\n",
    "print(fibm)"
   ]
  },
  {
   "cell_type": "code",
   "execution_count": 11,
   "metadata": {},
   "outputs": [
    {
     "name": "stdout",
     "output_type": "stream",
     "text": [
      "3\n"
     ]
    }
   ],
   "source": [
    "# Using memoization as decorator\n",
    "class Memoize:\n",
    "    def __init__(self, f):\n",
    "        self.f = f\n",
    "        self.memo = {}\n",
    "    def __call__(self, n):\n",
    "        if n not in self.memo:\n",
    "            self.memo[n] = self.f(n)\n",
    "            return self.memo[n]\n",
    "    \n",
    "@Memoize\n",
    "def fib(n):\n",
    "    a, b = 0, 1\n",
    "    for i in range(n-1):\n",
    "        a, b = b, a+b\n",
    "    return a\n",
    "\n",
    "print(fib(5))"
   ]
  },
  {
   "cell_type": "markdown",
   "metadata": {},
   "source": [
    "### Test your solution"
   ]
  },
  {
   "cell_type": "code",
   "execution_count": 7,
   "metadata": {},
   "outputs": [
    {
     "name": "stdout",
     "output_type": "stream",
     "text": [
      "Passed all tests.\n"
     ]
    }
   ],
   "source": [
    "from nose.tools import assert_equal\n",
    "\n",
    "class TestFib(object):\n",
    "    \n",
    "    def test(self,solution):\n",
    "        assert_equal(solution(10),55)\n",
    "        assert_equal(solution(1),1)\n",
    "       # assert_equal(solution(23),28657)\n",
    "        print ('Passed all tests.')\n",
    "# UNCOMMENT FOR CORRESPONDING FUNCTION\n",
    "t = TestFib()\n",
    "\n",
    "#t.test(fib_rec)\n",
    "t.test(fib_dyn) # Note, will need to reset cache size for each test!\n",
    "#t.test(fib_iter)"
   ]
  },
  {
   "cell_type": "code",
   "execution_count": null,
   "metadata": {
    "collapsed": true
   },
   "outputs": [],
   "source": []
  }
 ],
 "metadata": {
  "kernelspec": {
   "display_name": "Python 3",
   "language": "python",
   "name": "python3"
  },
  "language_info": {
   "codemirror_mode": {
    "name": "ipython",
    "version": 3
   },
   "file_extension": ".py",
   "mimetype": "text/x-python",
   "name": "python",
   "nbconvert_exporter": "python",
   "pygments_lexer": "ipython3",
   "version": "3.6.1"
  }
 },
 "nbformat": 4,
 "nbformat_minor": 2
}
