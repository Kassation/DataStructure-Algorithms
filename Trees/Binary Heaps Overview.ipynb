{
 "cells": [
  {
   "cell_type": "markdown",
   "metadata": {},
   "source": [
    "### Priority Queues with Binary Heaps\n",
    "- One important variation of a queue is called a priority queue.\n",
    "- A priority queue acts like a queue in that you dequeue an item by removing it from the front.\n",
    "- However, in a priority queue the logical order of items inside a queue is determined by their priority,"
   ]
  },
  {
   "cell_type": "markdown",
   "metadata": {},
   "source": [
    "- The highest priority items are at the front of the queue and the lowest priority items are at the back.\n",
    "- When you enqueue an item on a priority queue, the new item may move all the way to the front."
   ]
  },
  {
   "cell_type": "markdown",
   "metadata": {},
   "source": [
    "- The binary heap has two common variations: the min heap, in which the smallest key is always at the front, and the max heap, in which the largerst key value is always at the front."
   ]
  },
  {
   "cell_type": "code",
   "execution_count": null,
   "metadata": {
    "collapsed": true
   },
   "outputs": [],
   "source": []
  }
 ],
 "metadata": {
  "kernelspec": {
   "display_name": "Python 3",
   "language": "python",
   "name": "python3"
  },
  "language_info": {
   "codemirror_mode": {
    "name": "ipython",
    "version": 3
   },
   "file_extension": ".py",
   "mimetype": "text/x-python",
   "name": "python",
   "nbconvert_exporter": "python",
   "pygments_lexer": "ipython3",
   "version": "3.6.1"
  }
 },
 "nbformat": 4,
 "nbformat_minor": 2
}
