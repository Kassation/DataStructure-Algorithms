{
 "cells": [
  {
   "cell_type": "markdown",
   "metadata": {},
   "source": [
    "### Singly Linked Lists\n",
    "\n",
    "- A **_singly linked list_**, in its simplest form, is a collection of **_nodes_** that collectively form a linear sequence.\n",
    "- Each node stores a reference to an object that is an element of the sequence, as well as a reference to the next node of the list.\n",
    "- The list instance maintains a member named **head** that identifies the first node of the list. In some applications another member named **tail** that identifies the last node of the list.\n",
    "- We can identify the tail as the node having None as its next reference.\n",
    "- This process of going through the nodes is commonly known as **traversing** the linked list.\n",
    "- Because the next reference of a node can be viewed as a **link** or **pointer** to another node, the process of traversing a list is also known as **link hopping** or **pointer hopping**.\n",
    "- Each node ia represented as a unique object, with that instance storing a reference to its element and a reference to the next node (or None)."
   ]
  },
  {
   "cell_type": "markdown",
   "metadata": {},
   "source": [
    "#### Inserting an Element at the Head of a Singly Linked List\n",
    "- An important property of a linked list is that is does not have a predetermined fixed size\n",
    "- It uses space proportionally to its current number of elements.\n",
    "- To insert a new element at the head of the list:\n",
    "    - We create a new node\n",
    "    - Set its element to the new element\n",
    "    - Set its next link to refer to the current head\n",
    "    - Then set the list's head to point to the new node"
   ]
  },
  {
   "cell_type": "markdown",
   "metadata": {},
   "source": [
    "#### Inserting an Element at the Head of a Singly Linked List\n",
    "- We can also easily insert an element at the tail of the list, provided we keep a reference to the tail node\n",
    "    - Create a new node\n",
    "    - Assign its next reference to None\n",
    "    - Set the next reference of the tail to point this new node\n",
    "    - Then update the tail reference itself to this new node."
   ]
  },
  {
   "cell_type": "markdown",
   "metadata": {},
   "source": [
    "#### Removing an Element from a Singly Linked List\n",
    "- Removing an element from the head of a singly linked list is essentially the reverse operation of inserting a new element at the head\n",
    "\n",
    "- We cannot easily delete the last node of a singly linked list. Even if we maintain a tail reference directly to the last node of the list, we must be able to access the node before the last node in order ro remove the last node. But we cannot reach the node before the tail by following next links from the tail. If we want to support such an operation efficienctly, we will need to make out list doubly linked."
   ]
  },
  {
   "cell_type": "markdown",
   "metadata": {},
   "source": [
    "#### Singly Linked List Implementation"
   ]
  },
  {
   "cell_type": "code",
   "execution_count": 1,
   "metadata": {
    "collapsed": true
   },
   "outputs": [],
   "source": [
    "class Node(object):\n",
    "    def __init__(self, value):\n",
    "        self.value = value\n",
    "        self.nextnode = None"
   ]
  },
  {
   "cell_type": "code",
   "execution_count": 2,
   "metadata": {
    "collapsed": true
   },
   "outputs": [],
   "source": [
    "a = Node(1)\n",
    "b = Node(2)\n",
    "c = Node(3)"
   ]
  },
  {
   "cell_type": "code",
   "execution_count": 3,
   "metadata": {
    "collapsed": true
   },
   "outputs": [],
   "source": [
    "a.nextnode = b\n",
    "b.nextnode = c"
   ]
  },
  {
   "cell_type": "markdown",
   "metadata": {},
   "source": [
    "#### Pros\n",
    "- Linked Lists have constant-time insertions and deletions in any position, in comparison, arrays require $O(n)$ to do the same thing.\n",
    "- Linked Lists can continue to expand without having to specify their size ahead of time.\n",
    "\n",
    "#### Cons\n",
    "- To access an element in a linked list,you need to take $O(K)$ time to go from the head of the list to the kth element. In contrast, arrays have constant time operations to access elements in an array."
   ]
  },
  {
   "cell_type": "code",
   "execution_count": null,
   "metadata": {
    "collapsed": true
   },
   "outputs": [],
   "source": []
  }
 ],
 "metadata": {
  "kernelspec": {
   "display_name": "Python 3",
   "language": "python",
   "name": "python3"
  },
  "language_info": {
   "codemirror_mode": {
    "name": "ipython",
    "version": 3
   },
   "file_extension": ".py",
   "mimetype": "text/x-python",
   "name": "python",
   "nbconvert_exporter": "python",
   "pygments_lexer": "ipython3",
   "version": "3.6.1"
  }
 },
 "nbformat": 4,
 "nbformat_minor": 2
}
