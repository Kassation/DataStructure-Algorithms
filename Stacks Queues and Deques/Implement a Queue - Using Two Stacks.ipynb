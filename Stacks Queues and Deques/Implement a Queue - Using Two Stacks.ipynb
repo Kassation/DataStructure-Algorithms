{
 "cells": [
  {
   "cell_type": "markdown",
   "metadata": {},
   "source": [
    "## Implement a Queue - Using Two Stacks"
   ]
  },
  {
   "cell_type": "markdown",
   "metadata": {},
   "source": [
    "Given the Stack class below, implement a Queue class using two stacks! Note, this is a \"classic\" interview problem. Use a Python list data structure as your Stack."
   ]
  },
  {
   "cell_type": "markdown",
   "metadata": {},
   "source": [
    "### Solution"
   ]
  },
  {
   "cell_type": "markdown",
   "metadata": {},
   "source": [
    "We know that a stack reverses the order, but a queue doesn't. So two stacks chained together will return the same order, since reversed order reversed again is the original order."
   ]
  },
  {
   "cell_type": "markdown",
   "metadata": {},
   "source": [
    "A sequence of elements pushed on a stack comes back in reversed order when poped. We use an in-stack when we fill that an element is enqueued. and the dequeue operation takes elements from an out-stack."
   ]
  },
  {
   "cell_type": "markdown",
   "metadata": {},
   "source": [
    "When the out-stack is empty, we pop all the elements from the in-stack and push them onto the out-stack."
   ]
  },
  {
   "cell_type": "code",
   "execution_count": 1,
   "metadata": {
    "collapsed": true
   },
   "outputs": [],
   "source": [
    "class Queue2Stacks(object):\n",
    "    \n",
    "    def __init__(self):\n",
    "        self.in_stack = []\n",
    "        self.out_stack = []\n",
    "        \n",
    "    def enqueue(self, ele):\n",
    "        self.in_stack.append(ele)\n",
    "        \n",
    "    def dequeue(self):\n",
    "        if not self.out_stack:\n",
    "            while self.in_stack:\n",
    "                self.out_stack.append(self.in_stack.pop())\n",
    "        return self.out_stack.pop()"
   ]
  },
  {
   "cell_type": "markdown",
   "metadata": {},
   "source": [
    "### Test Your Solution"
   ]
  },
  {
   "cell_type": "code",
   "execution_count": 5,
   "metadata": {},
   "outputs": [
    {
     "name": "stdout",
     "output_type": "stream",
     "text": [
      "0\n",
      "1\n",
      "2\n",
      "3\n",
      "4\n"
     ]
    }
   ],
   "source": [
    "\n",
    "\"\"\"\n",
    "RUN THIS CELL TO CHECK THAT YOUR SOLUTION OUTPUT MAKES SENSE AND BEHAVES AS A QUEUE\n",
    "\"\"\"\n",
    "q = Queue2Stacks()\n",
    "\n",
    "for i in range(5):\n",
    "    q.enqueue(i)\n",
    "    \n",
    "for i in range(5):\n",
    "    print(q.dequeue())"
   ]
  },
  {
   "cell_type": "code",
   "execution_count": null,
   "metadata": {
    "collapsed": true
   },
   "outputs": [],
   "source": []
  }
 ],
 "metadata": {
  "kernelspec": {
   "display_name": "Python 3",
   "language": "python",
   "name": "python3"
  },
  "language_info": {
   "codemirror_mode": {
    "name": "ipython",
    "version": 3
   },
   "file_extension": ".py",
   "mimetype": "text/x-python",
   "name": "python",
   "nbconvert_exporter": "python",
   "pygments_lexer": "ipython3",
   "version": "3.6.1"
  }
 },
 "nbformat": 4,
 "nbformat_minor": 2
}
